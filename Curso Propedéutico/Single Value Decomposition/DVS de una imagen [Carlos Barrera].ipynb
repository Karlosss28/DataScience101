{
 "cells": [
  {
   "cell_type": "markdown",
   "metadata": {},
   "source": [
    "# Tarea: DVS de una Imagen\n",
    "### Por: Carlos Barrera"
   ]
  },
  {
   "cell_type": "markdown",
   "metadata": {},
   "source": [
    "### En esta tarea se lleva a cabo la implementación del uso de la DVS de una imagen para su reconstrucción a partir de un número limitado de dichos valores con el fin de comprobar que no es necesaria la información completa de la matriz generada por la imagen para obtener una aproximación a la imagen original."
   ]
  },
  {
   "cell_type": "markdown",
   "metadata": {},
   "source": [
    "Empezamos importando las dos librerías que estaremos usando: numpy y el módulo Image de la librería PIL"
   ]
  },
  {
   "cell_type": "code",
   "execution_count": 1,
   "metadata": {
    "collapsed": true
   },
   "outputs": [],
   "source": [
    "import numpy as np\n",
    "from PIL import Image"
   ]
  },
  {
   "cell_type": "markdown",
   "metadata": {},
   "source": [
    "Definimos la función reconstuct_for_k, esta función recibe tres parámetros: \n",
    "1. mat: La matriz que será descompuesta y luego reconstruida\n",
    "2. k: el número de elementos a partir del cual se reconstruirá la imagen (puede ser el valor directo de k o un porcentaje)\n",
    "3. k_type: si este parámetro tiene el valor \"pctg\" tomará a k como un porcentaje del número total de valores del vector s, en cualquier otro caso, la reconstrucción se hará tomando los valores 1...k más significativos del vector s. *(Nota: una ventaja de expresar k en porcentaje es que no debemos preocuparnos por la dimensión del vector s)*"
   ]
  },
  {
   "cell_type": "code",
   "execution_count": 2,
   "metadata": {
    "collapsed": true
   },
   "outputs": [],
   "source": [
    "def reconstruct_for_k (mat, k, k_type):\n",
    "    U, s, V = np.linalg.svd(mat, full_matrices=True)\n",
    "    k = get_k(s, k, k_type)\n",
    "    result = np.zeros([mat.shape[0], mat.shape[1]])\n",
    "    for x in range (0,k):\n",
    "        result += s[x]*np.dot(np.matrix(U[:,x],float).T,np.matrix(V[x], float))\n",
    "    result = sanitize_matrix(result)\n",
    "    return {'result_matrix':result, 'k': k}"
   ]
  },
  {
   "cell_type": "markdown",
   "metadata": {},
   "source": [
    "La función reconstruct_for_k_dot recibe los mismos parámetros que la anterior y su comportamiento es exactamente el mismo;la diferencia radica en el modo de ejecutar la reconstrucción de la matriz. En el caso de la función reconstruct_for_k, se hace la suma de los productos $ u_{i}s_{i}v_{i}^{t} $ para *i* desde 1 hasta k. En el caso de esta función todos los elementos $s_i$ tales que $i>k$ se hacen cero y se aplica la función dot lo cual genera la suma deseada. $s_{1}u_{1}v_{1}^T + s_{2}u_{2}v_{2}^T + ... + s_{k}u_{k}v_{k}^T$.\n",
    "\n",
    "Al hacer varias pruebas descubrí que generar la suma utilizando la función dot es más rápido que generar la suma elemento a elemento. En todo caso, las dos funciones son idénticas en cuanto a su uso."
   ]
  },
  {
   "cell_type": "code",
   "execution_count": 3,
   "metadata": {
    "collapsed": true
   },
   "outputs": [],
   "source": [
    "def reconstruct_for_k_dot (mat, k, k_type):\n",
    "    U, s, V = np.linalg.svd(mat, full_matrices=True)\n",
    "    S = np.zeros([mat.shape[0], mat.shape[1]])\n",
    "    k = get_k(s, k, k_type)\n",
    "    S[:k, :k] = np.diag(s[:k])\n",
    "    result = np.dot(U, np.dot(S, V))\n",
    "    result = sanitize_matrix(result)\n",
    "    return {'result_matrix':result, 'k': k}"
   ]
  },
  {
   "cell_type": "markdown",
   "metadata": {},
   "source": [
    "La funcion get_k recibe tres parámetros:\n",
    "\n",
    "1. s: El vector s devuelto por la función np.linalg.svd\n",
    "2. k: Tiene el mismo uso y significado que en la función reconstruct_for_k\n",
    "3. k_type: Tiene el mismo uso y significado que en la función reconstruct_for_k\n",
    "\n",
    "Si k_type=\"pctg\" esta función transforma k en el valor adecuado con respecto al número de valores $s_i$ no nulos\n",
    "Esta función también limita el valor máximo de k que nunca puede ser mayor al número de valores $s_i$ no nulos"
   ]
  },
  {
   "cell_type": "code",
   "execution_count": 4,
   "metadata": {
    "collapsed": true
   },
   "outputs": [],
   "source": [
    "def get_k (s, k, k_type):\n",
    "    if(k_type!=\"pctg\"):\n",
    "        if(k > s.shape[0]):\n",
    "            k = s.shape[0]\n",
    "    else:\n",
    "        if(k>=100):\n",
    "            k=s.shape[0]\n",
    "        else:\n",
    "            k=int((k/100)*s.shape[0])\n",
    "        \n",
    "    return k"
   ]
  },
  {
   "cell_type": "markdown",
   "metadata": {},
   "source": [
    "La función sanitize_matrix se utiliza para evitar errores de overflow cuando la matriz reconstruida se convierte a una matriz con dtype=uint8. Si no se sanitiza esta matriz los valores que provocan overflow con el tipo de dato uint8 se convierten en su complemento a 255; por ejemplo, un valor de 260 se interpretaría como 5 lo cual convertiría un pixel muy luminoso en uno oscuro; lo inverso sucede para valores menores a 0."
   ]
  },
  {
   "cell_type": "code",
   "execution_count": 5,
   "metadata": {
    "collapsed": true
   },
   "outputs": [],
   "source": [
    "def sanitize_matrix (mat):\n",
    "    for x in range (0, mat.shape[0]):\n",
    "        for y in range (0, mat.shape[1]):\n",
    "            if mat[x][y] > 255 :\n",
    "                mat[x][y] = 255\n",
    "            if mat[x][y] < 0:\n",
    "                mat[x][y] = 0\n",
    "    return mat"
   ]
  },
  {
   "cell_type": "markdown",
   "metadata": {},
   "source": [
    "La función compress_image recibe 5 parámetros:\n",
    "1. filename: El nombre del archivo de imagen a leer (para esta tarea solo se tomó en cuenta imágenes jpg, el nombre no debe incluir la extensión del archivo)\n",
    "2. color_type: Si este parámetro tiene un valor de \"RGB\", la DVS ocurrirá en los tres canales de color resultando en una imagen a color, en cualquier otro caso, se generará una imagen en blanco y negro\n",
    "3. k: Tiene el mismo uso y significado que en la función reconstruct_for_k\n",
    "4. k_type: Tiene el mismo uso y significado que en la función reconstruct_for_k\n",
    "5. sum_mode: Si este parámetro tiene un valor de \"dot\" utilizará la función reconstruct_for_k_dot para reconstruir la imagen, en caso contrario, utilizará la función reconstruct_for_k (ambas funciones son idénticas en funcionamiento)\n",
    "\n",
    "Esta función nos regresa un diccionario con dos elementos:\n",
    "1. image: Un objeto imagen generado a partir de la reconstrucción para k puntos\n",
    "2. k: el número de elementos del vector s que se utilizaron para la reconstrucción"
   ]
  },
  {
   "cell_type": "code",
   "execution_count": 6,
   "metadata": {
    "collapsed": true
   },
   "outputs": [],
   "source": [
    "def compress_image (filename, color_type, k, k_mode, sum_mode):\n",
    "    if(color_type !=\"RGB\"):\n",
    "        color_type = \"L\"\n",
    "    img = Image.open(filename)\n",
    "    img_conv = img.convert(color_type)\n",
    "    img_matrix = np.array(img_conv)\n",
    "    if(color_type==\"RGB\"):\n",
    "        result = np.zeros([img_matrix.shape[0], img_matrix.shape[1], 3])\n",
    "        for x in range (0,3):\n",
    "            if(sum_mode != 'dot'):\n",
    "                result_obj = reconstruct_for_k(img_matrix[:,:,x], k, k_mode)\n",
    "            else:\n",
    "                result_obj = reconstruct_for_k_dot(img_matrix[:,:,x], k, k_mode)\n",
    "            result[:,:,x] = result_obj['result_matrix']\n",
    "    else:\n",
    "        if(sum_mode != 'dot'):\n",
    "            result_obj = reconstruct_for_k(img_matrix, k, k_mode)\n",
    "        else:\n",
    "            result_obj = reconstruct_for_k_dot(img_matrix, k, k_mode)\n",
    "        result = result_obj['result_matrix']\n",
    "    img_result = Image.fromarray(np.uint8(result), color_type)\n",
    "    return {'image':img_result, 'k': result_obj['k']}"
   ]
  },
  {
   "cell_type": "markdown",
   "metadata": {},
   "source": [
    "## Uso:\n",
    "\n",
    "Las siguientes líneas definen los valores de los parámetros para generar 10 versiones a color de la misma imagen utilizando el 10%, 20%, ..., 90% y 100% de los valores del vector s respectivamente utilizando la función dot para reconstruir la imagen."
   ]
  },
  {
   "cell_type": "code",
   "execution_count": 7,
   "metadata": {
    "collapsed": true
   },
   "outputs": [],
   "source": [
    "k_options = (100, 90, 80, 70, 60, 50, 40, 30, 20, 10)\n",
    "file_name = \"Ygritte\"\n",
    "color_type = \"RGB\"\n",
    "k_mode = \"pctg\"\n",
    "sum_mode = \"dot\"\n",
    "for k in k_options:\n",
    "    img = compress_image(file_name+\".jpg\", color_type, k, k_mode, sum_mode)\n",
    "    if k_mode != \"pctg\":\n",
    "        img_name = file_name+\"_\"+color_type+\"_k_\"+str(img['k'])+\".jpg\"\n",
    "    else:\n",
    "        img_name = file_name+\"_\"+color_type+\"_k_\"+str(img['k'])+\"_p_\"+str(k)+\".jpg\"\n",
    "    img['image'].save(img_name, \"JPEG\")"
   ]
  },
  {
   "cell_type": "markdown",
   "metadata": {},
   "source": [
    "## Resultados\n",
    "\n",
    "A continuación se mostrarán las imágenes correspondientes a los diferentes valores de k\n",
    "\n",
    "<img src=\"Ygritte.jpg\">\n",
    "<center>Imagen Original</center>\n",
    "&nbsp;\n",
    "<img src=\"Ygritte_RGB_k_500_p_100.jpg\">\n",
    "<center>100% de los valores de s</center>\n",
    "<center>*k*=500</center>\n",
    "&nbsp;\n",
    "<img src=\"Ygritte_RGB_k_450_p_90.jpg\">\n",
    "<center>90% de los valores de s</center>\n",
    "<center>*k*=450</center>\n",
    "&nbsp;\n",
    "<img src=\"Ygritte_RGB_k_400_p_80.jpg\">\n",
    "<center>80% de los valores de s</center>\n",
    "<center>*k*=400</center>\n",
    "&nbsp;\n",
    "<img src=\"Ygritte_RGB_k_350_p_70.jpg\">\n",
    "<center>70% de los valores de s</center>\n",
    "<center>*k*=350</center>\n",
    "&nbsp;\n",
    "<img src=\"Ygritte_RGB_k_300_p_60.jpg\">\n",
    "<center>60% de los valores de s</center>\n",
    "<center>*k*=300</center>\n",
    "&nbsp;\n",
    "<img src=\"Ygritte_RGB_k_250_p_50.jpg\">\n",
    "<center>50% de los valores de s</center>\n",
    "<center>*k*=250</center>\n",
    "&nbsp;\n",
    "<img src=\"Ygritte_RGB_k_200_p_40.jpg\">\n",
    "<center>40% de los valores de s</center>\n",
    "<center>*k*=200</center>\n",
    "&nbsp;\n",
    "<img src=\"Ygritte_RGB_k_150_p_30.jpg\">\n",
    "<center>30% de los valores de s</center>\n",
    "<center>*k*=150</center>\n",
    "&nbsp;\n",
    "<img src=\"Ygritte_RGB_k_100_p_20.jpg\">\n",
    "<center>20% de los valores de s</center>\n",
    "<center>*k*=100</center>\n",
    "&nbsp;\n",
    "<img src=\"Ygritte_RGB_k_50_p_10.jpg\">\n",
    "<center>10% de los valores de s</center>\n",
    "<center>*k*=50</center>"
   ]
  },
  {
   "cell_type": "markdown",
   "metadata": {},
   "source": [
    "## Uso 2\n",
    "\n",
    "Las siguientes líneas definen los valores de los parámetros para generar 2 versiones a blanco y negro de la misma imagen utilizando el valores puntuales de k generando los elementos $s_{i}u_{i}v_{i}^{T}$ uno por uno para reconstruir la imagen."
   ]
  },
  {
   "cell_type": "code",
   "execution_count": 8,
   "metadata": {
    "collapsed": true
   },
   "outputs": [],
   "source": [
    "k_options = (25, 50)\n",
    "file_name = \"Ygritte\"\n",
    "color_type = \"L\"\n",
    "k_mode = \"exact\"\n",
    "sum_mode = \"sum\"\n",
    "for k in k_options:\n",
    "    img = compress_image(file_name+\".jpg\", color_type, k, k_mode, sum_mode)\n",
    "    if k_mode != \"pctg\":\n",
    "        img_name = file_name+\"_\"+color_type+\"_k_\"+str(img['k'])+\".jpg\"\n",
    "    else:\n",
    "        img_name = file_name+\"_\"+color_type+\"_k_\"+str(img['k'])+\"_p_\"+str(k)+\".jpg\"\n",
    "    img['image'].save(img_name, \"JPEG\")"
   ]
  },
  {
   "cell_type": "markdown",
   "metadata": {},
   "source": [
    "## Resultados\n",
    "\n",
    "<img src=\"Ygritte.jpg\">\n",
    "<center>Imagen Original</center>\n",
    "&nbsp;\n",
    "<img src=\"Ygritte_L_k_50.jpg\">\n",
    "<center>*k*=50</center>\n",
    "<center>(10% de los valores de s)</center>\n",
    "&nbsp;\n",
    "<img src=\"Ygritte_L_k_25.jpg\">\n",
    "<center>*k*=25</center>\n",
    "<center>(5% de los valores de s)</center>"
   ]
  },
  {
   "cell_type": "markdown",
   "metadata": {},
   "source": [
    "## Conclusión\n",
    "\n",
    "Como podemos observar, es necesario utilizar valores muy pequeños de k (en este caso un número menor al 20% de los elementos del vector s) para que el cambio en la imagen sea realmente perceptible, lo cual nos demuestra que podemos reconstruir una imagen muy aproximada a la original utilizando una cantidad de información drásticamente menor."
   ]
  },
  {
   "cell_type": "code",
   "execution_count": null,
   "metadata": {
    "collapsed": true
   },
   "outputs": [],
   "source": []
  }
 ],
 "metadata": {
  "kernelspec": {
   "display_name": "Python 3",
   "language": "python",
   "name": "python3"
  },
  "language_info": {
   "codemirror_mode": {
    "name": "ipython",
    "version": 3
   },
   "file_extension": ".py",
   "mimetype": "text/x-python",
   "name": "python",
   "nbconvert_exporter": "python",
   "pygments_lexer": "ipython3",
   "version": "3.5.1"
  }
 },
 "nbformat": 4,
 "nbformat_minor": 0
}
